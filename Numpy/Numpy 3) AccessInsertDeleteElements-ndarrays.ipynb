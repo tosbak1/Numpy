{
 "cells": [
  {
   "cell_type": "markdown",
   "metadata": {},
   "source": [
    "`y = np.delete(x, 0, axis=0)` this code deletes from a rank 2 array.<br>\n",
    "**#axis 0 = row and axis 1 = column**<br>\n",
    "`x = np.append(x, [7,8,9])` *this is used to append values to a rank 1 array*\n",
    "`x = np.append(x, 1)` *to append only one value to a rank 1 array*<br><br>\n",
    "`y = np.append(x, [[10,11,12]], axis=0)` to append a row of 10, 11, 12 to a rank 2 array<br>\n",
    "`z = np.append(x, [[10],[11],[12]], axis=1)` to append a column to a rank 2 array<br>\n",
    "`x = np.insert(x, 2, [3,4])` insert at position 2 values 3 and 4<br>\n",
    "`y = np.insert(x, 1, [4,5,6], axis=0)` insert into row 1 values 4, 5, 6<br>\n",
    "`y = np.insert(x, 1, [[5],[6]], axis=1)` insert 5 and 6 in each column of the rows<br><br><br>\n",
    "Numpy allows stacking of Numpy arrays on eachother of side by side.<br>\n",
    "*Vstack* vertical stacking<br>\n",
    "*Hstack* horizontal stacking **Yyou need to reshape before doing hstack**<br>"
   ]
  },
  {
   "cell_type": "code",
   "execution_count": 33,
   "metadata": {},
   "outputs": [],
   "source": [
    "import numpy as np"
   ]
  },
  {
   "cell_type": "code",
   "execution_count": 34,
   "metadata": {},
   "outputs": [
    {
     "name": "stdout",
     "output_type": "stream",
     "text": [
      "[1 2 3 4 5]\n"
     ]
    }
   ],
   "source": [
    "x = np.array([1,2,3,4,5])\n",
    "print(x)"
   ]
  },
  {
   "cell_type": "code",
   "execution_count": 35,
   "metadata": {},
   "outputs": [
    {
     "name": "stdout",
     "output_type": "stream",
     "text": [
      "1st element: 1\n",
      "3rd element: 3\n",
      "5th element: 5\n"
     ]
    }
   ],
   "source": [
    "print(\"1st element: {}\".format(x[0]))\n",
    "print(\"3rd element: {}\".format(x[2]))\n",
    "print(\"5th element: {}\".format(x[4]))"
   ]
  },
  {
   "cell_type": "code",
   "execution_count": 36,
   "metadata": {},
   "outputs": [
    {
     "name": "stdout",
     "output_type": "stream",
     "text": [
      "1st element: 1\n",
      "3rd element: 3\n",
      "5th element: 5\n"
     ]
    }
   ],
   "source": [
    "print(\"1st element: {}\".format(x[-5]))\n",
    "print(\"3rd element: {}\".format(x[-3]))\n",
    "print(\"5th element: {}\".format(x[-1]))"
   ]
  },
  {
   "cell_type": "code",
   "execution_count": 37,
   "metadata": {},
   "outputs": [
    {
     "name": "stdout",
     "output_type": "stream",
     "text": [
      "[ 1  2  3 20  5]\n"
     ]
    }
   ],
   "source": [
    "x[3] = 20\n",
    "print(x)"
   ]
  },
  {
   "cell_type": "code",
   "execution_count": 38,
   "metadata": {},
   "outputs": [
    {
     "name": "stdout",
     "output_type": "stream",
     "text": [
      "[[1 2 3]\n",
      " [4 5 6]\n",
      " [7 8 9]]\n"
     ]
    }
   ],
   "source": [
    "x = np.arange(1,10).reshape(3,3)\n",
    "print(x)"
   ]
  },
  {
   "cell_type": "code",
   "execution_count": 39,
   "metadata": {},
   "outputs": [
    {
     "name": "stdout",
     "output_type": "stream",
     "text": [
      "This is 1x1: 1\n",
      "This is 1x3: 6\n",
      "This is 3x1: 8\n"
     ]
    }
   ],
   "source": [
    "print(\"This is 1x1: {}\".format(x[0,0]))\n",
    "print(\"This is 1x3: {}\".format(x[1,2]))\n",
    "print(\"This is 3x1: {}\".format(x[2,1]))"
   ]
  },
  {
   "cell_type": "code",
   "execution_count": 40,
   "metadata": {},
   "outputs": [
    {
     "name": "stdout",
     "output_type": "stream",
     "text": [
      "[[11  2  3]\n",
      " [ 4  5 12]\n",
      " [ 7 22  9]]\n"
     ]
    }
   ],
   "source": [
    "x[0,0] = 11\n",
    "x[1,2] = 12\n",
    "x[2,1] = 22\n",
    "print(x)"
   ]
  },
  {
   "cell_type": "code",
   "execution_count": 41,
   "metadata": {},
   "outputs": [
    {
     "name": "stdout",
     "output_type": "stream",
     "text": [
      "[1 2 3 4 5]\n",
      "[2 3 4]\n",
      "[2 4]\n"
     ]
    }
   ],
   "source": [
    "x = np.array([1,2,3,4,5])\n",
    "print(x)\n",
    "\n",
    "#delete index 0 and 4\n",
    "x = np.delete(x, [0,4])\n",
    "print(x)\n",
    "\n",
    "#delete only index 1\n",
    "x = np.delete(x, 1)\n",
    "print(x)"
   ]
  },
  {
   "cell_type": "code",
   "execution_count": 42,
   "metadata": {},
   "outputs": [
    {
     "name": "stdout",
     "output_type": "stream",
     "text": [
      "[[1 2 3]\n",
      " [4 5 6]\n",
      " [7 8 9]]\n",
      "\n",
      " [[4 5 6]\n",
      " [7 8 9]]\n",
      "\n",
      " [[2 3]\n",
      " [5 6]\n",
      " [8 9]]\n",
      "\n",
      " [[2]\n",
      " [5]\n",
      " [8]]\n"
     ]
    }
   ],
   "source": [
    "x = np.arange(1,10).reshape(3,3)\n",
    "print(x)\n",
    "\n",
    "#axis 0 = row and axis 1 = column\n",
    "y = np.delete(x, 0, axis=0)\n",
    "print('\\n',y)\n",
    "y = np.delete(x, 0, axis=1)\n",
    "print('\\n',y)\n",
    "y = np.delete(x, [0,2], axis=1)\n",
    "print('\\n',y)"
   ]
  },
  {
   "cell_type": "code",
   "execution_count": 46,
   "metadata": {},
   "outputs": [
    {
     "name": "stdout",
     "output_type": "stream",
     "text": [
      "[1 2 3 4 5]\n",
      "[1 2 3 4 5 6 7 8 9]\n"
     ]
    }
   ],
   "source": [
    "x = np.array([1,2,3,4,5])\n",
    "print(x)\n",
    "x = np.append(x, 6)\n",
    "x = np.append(x, [7,8,9])\n",
    "print(x)"
   ]
  },
  {
   "cell_type": "code",
   "execution_count": 49,
   "metadata": {},
   "outputs": [
    {
     "name": "stdout",
     "output_type": "stream",
     "text": [
      "[[1 2 3]\n",
      " [4 5 6]\n",
      " [7 8 9]]\n",
      "[[ 1  2  3]\n",
      " [ 4  5  6]\n",
      " [ 7  8  9]\n",
      " [10 11 12]]\n",
      "[[ 1  2  3 10]\n",
      " [ 4  5  6 11]\n",
      " [ 7  8  9 12]]\n"
     ]
    }
   ],
   "source": [
    "x = np.arange(1,10).reshape(3,3)\n",
    "print(x)\n",
    "y = np.append(x, [[10,11,12]], axis=0)\n",
    "print(y)\n",
    "z = np.append(x, [[10],[11],[12]], axis=1)\n",
    "print(z)"
   ]
  },
  {
   "cell_type": "code",
   "execution_count": 50,
   "metadata": {},
   "outputs": [
    {
     "name": "stdout",
     "output_type": "stream",
     "text": [
      "[1 2 5 6 7]\n"
     ]
    }
   ],
   "source": [
    "x = np.array([1,2,5,6,7])\n",
    "print(x)"
   ]
  },
  {
   "cell_type": "code",
   "execution_count": 51,
   "metadata": {},
   "outputs": [
    {
     "name": "stdout",
     "output_type": "stream",
     "text": [
      "[1 2 3 4 5 6 7]\n"
     ]
    }
   ],
   "source": [
    "x = np.insert(x, 2, [3,4])\n",
    "print(x)"
   ]
  },
  {
   "cell_type": "code",
   "execution_count": 52,
   "metadata": {},
   "outputs": [
    {
     "name": "stdout",
     "output_type": "stream",
     "text": [
      "[[1 2 3]\n",
      " [7 8 9]]\n"
     ]
    }
   ],
   "source": [
    "x = np.array([[1,2,3],[7,8,9]])\n",
    "print(x)"
   ]
  },
  {
   "cell_type": "code",
   "execution_count": 53,
   "metadata": {},
   "outputs": [
    {
     "name": "stdout",
     "output_type": "stream",
     "text": [
      "[[1 2 3]\n",
      " [4 5 6]\n",
      " [7 8 9]]\n"
     ]
    }
   ],
   "source": [
    "y = np.insert(x, 1, [4,5,6], axis=0)\n",
    "print(y)"
   ]
  },
  {
   "cell_type": "code",
   "execution_count": 62,
   "metadata": {},
   "outputs": [
    {
     "name": "stdout",
     "output_type": "stream",
     "text": [
      "[[1 4 2 3]\n",
      " [7 4 8 9]]\n",
      "\n",
      " [[1 5 6 2 3]\n",
      " [7 5 6 8 9]]\n"
     ]
    }
   ],
   "source": [
    "y = np.insert(x, 1, 4, axis=1)\n",
    "print(y)\n",
    "y = np.insert(x, 1, [[5],[6]], axis=1)\n",
    "print(\"\\n\", y)"
   ]
  },
  {
   "cell_type": "code",
   "execution_count": 63,
   "metadata": {},
   "outputs": [
    {
     "name": "stdout",
     "output_type": "stream",
     "text": [
      "[1 2]\n",
      "\n",
      "[[3 4]\n",
      " [5 6]]\n"
     ]
    }
   ],
   "source": [
    "x = np.array([1,2])\n",
    "print(x)\n",
    "print()\n",
    "y = np.array([[3,4], [5,6]])\n",
    "print(y)"
   ]
  },
  {
   "cell_type": "code",
   "execution_count": 68,
   "metadata": {},
   "outputs": [
    {
     "name": "stdout",
     "output_type": "stream",
     "text": [
      "[[1 2]\n",
      " [3 4]\n",
      " [5 6]]\n",
      "\n",
      "[[3 4 1]\n",
      " [5 6 2]]\n"
     ]
    }
   ],
   "source": [
    "z = np.vstack((x, y))\n",
    "print(z)\n",
    "print()\n",
    "a = np.hstack((y, x.reshape(2,1)))\n",
    "print(a)"
   ]
  },
  {
   "cell_type": "code",
   "execution_count": null,
   "metadata": {},
   "outputs": [],
   "source": []
  }
 ],
 "metadata": {
  "kernelspec": {
   "display_name": "Python [conda env:anaconda3]",
   "language": "python",
   "name": "conda-env-anaconda3-py"
  },
  "language_info": {
   "codemirror_mode": {
    "name": "ipython",
    "version": 3
   },
   "file_extension": ".py",
   "mimetype": "text/x-python",
   "name": "python",
   "nbconvert_exporter": "python",
   "pygments_lexer": "ipython3",
   "version": "3.6.6"
  }
 },
 "nbformat": 4,
 "nbformat_minor": 2
}
