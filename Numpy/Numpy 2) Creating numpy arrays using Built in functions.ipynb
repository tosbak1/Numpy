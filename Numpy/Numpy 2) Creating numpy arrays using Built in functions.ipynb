{
 "cells": [
  {
   "cell_type": "markdown",
   "metadata": {},
   "source": [
    "**This is creating numpy arrays using built in Functions**<br>\n",
    "`np.zeros((3,4))` create 3x4 matrix default dtype = float with values 0<br>\n",
    "`np.ones((3,3))` create 3x3 matrix default dtype= float with values 1<br>\n",
    "`np.full((4,3), 5)` creates 4x3 matrix with default that corresponds to the value you pass and dtype=type of value<br>\n",
    "`np.eye(4)` make identity matrix <br>\n",
    "`np.diag([10,20,30,40])` does the same as eye but with your own values<br>\n",
    "`np.arange(start, stop, step)` this goes from start (inclusive) to stop (exclusive) and steps<br>\n",
    "`np.linspace(start, stop, n)` this gives n numbers from start to stop (both inclusive) evenly spaced. Requires at least 2 numbers: start and stop<br>. *Can set it to excluvie by including , endpoint=false*<br>\n",
    "`np.reshape(x, (4,4))` reshape an np array to a matrix<br>\n",
    "`np.random.random(3,3)` creates a 3x3 matrix before 0 (inclusive) and 1 (exclusive). module.function<br>\n",
    "`np.random.randint(4, 15, (3,2))` creates a 3x2 matrix with values between 4 (inclusive) and 15 (exclusive)<br>"
   ]
  },
  {
   "cell_type": "code",
   "execution_count": 1,
   "metadata": {},
   "outputs": [],
   "source": [
    "import numpy as np"
   ]
  },
  {
   "cell_type": "code",
   "execution_count": 4,
   "metadata": {},
   "outputs": [
    {
     "name": "stdout",
     "output_type": "stream",
     "text": [
      "[[0 0 0 0]\n",
      " [0 0 0 0]\n",
      " [0 0 0 0]]\n",
      "int64\n"
     ]
    }
   ],
   "source": [
    "#By default this creates a 3x4 matrix with dtype=float64.\n",
    "X = np.zeros((3,4), dtype=int)\n",
    "print(X)\n",
    "print(X.dtype)"
   ]
  },
  {
   "cell_type": "code",
   "execution_count": 5,
   "metadata": {},
   "outputs": [
    {
     "name": "stdout",
     "output_type": "stream",
     "text": [
      "[[1. 1. 1. 1.]\n",
      " [1. 1. 1. 1.]\n",
      " [1. 1. 1. 1.]\n",
      " [1. 1. 1. 1.]]\n",
      "float64\n"
     ]
    }
   ],
   "source": [
    "X = np.ones((4,4))\n",
    "print(X)\n",
    "print(X.dtype)"
   ]
  },
  {
   "cell_type": "code",
   "execution_count": 12,
   "metadata": {},
   "outputs": [
    {
     "name": "stdout",
     "output_type": "stream",
     "text": [
      "[[5 5 5]\n",
      " [5 5 5]\n",
      " [5 5 5]\n",
      " [5 5 5]]\n",
      "int64\n"
     ]
    }
   ],
   "source": [
    "#Default of this corresponds to what you put in either int or float or String\n",
    "X = np.full((4,3), 5)\n",
    "#X = np.full((4,3),5, dtype=float)\n",
    "\n",
    "print(X)\n",
    "print(X.dtype)"
   ]
  },
  {
   "cell_type": "code",
   "execution_count": 15,
   "metadata": {},
   "outputs": [
    {
     "name": "stdout",
     "output_type": "stream",
     "text": [
      "[[1 0 0 0 0]\n",
      " [0 1 0 0 0]\n",
      " [0 0 1 0 0]\n",
      " [0 0 0 1 0]\n",
      " [0 0 0 0 1]]\n"
     ]
    }
   ],
   "source": [
    "X= np.eye(5, dtype=int)\n",
    "print(X)"
   ]
  },
  {
   "cell_type": "code",
   "execution_count": 17,
   "metadata": {},
   "outputs": [
    {
     "name": "stdout",
     "output_type": "stream",
     "text": [
      "[[10  0  0  0]\n",
      " [ 0 20  0  0]\n",
      " [ 0  0 30  0]\n",
      " [ 0  0  0 40]]\n"
     ]
    }
   ],
   "source": [
    "X = np.diag([10,20,30,40])\n",
    "print(X)"
   ]
  },
  {
   "cell_type": "code",
   "execution_count": 18,
   "metadata": {},
   "outputs": [
    {
     "name": "stdout",
     "output_type": "stream",
     "text": [
      "[1 3 5 7 9]\n"
     ]
    }
   ],
   "source": [
    "X = np.arange(1,10,2)\n",
    "print(X)"
   ]
  },
  {
   "cell_type": "code",
   "execution_count": 21,
   "metadata": {},
   "outputs": [
    {
     "name": "stdout",
     "output_type": "stream",
     "text": [
      "[ 0.          2.77777778  5.55555556  8.33333333 11.11111111 13.88888889\n",
      " 16.66666667 19.44444444 22.22222222 25.        ]\n",
      "\n",
      "[ 0.   2.5  5.   7.5 10.  12.5 15.  17.5 20.  22.5]\n"
     ]
    }
   ],
   "source": [
    "x = np.linspace(0, 25, 10)\n",
    "y = np.linspace(0, 25, 10, endpoint=False)\n",
    "print(x)\n",
    "print()\n",
    "print(y)"
   ]
  },
  {
   "cell_type": "code",
   "execution_count": 24,
   "metadata": {},
   "outputs": [
    {
     "name": "stdout",
     "output_type": "stream",
     "text": [
      "[ 0  1  2  3  4  5  6  7  8  9 10 11 12 13 14 15 16 17 18 19]\n"
     ]
    }
   ],
   "source": [
    "x = np.arange(20)\n",
    "print(x)"
   ]
  },
  {
   "cell_type": "code",
   "execution_count": 25,
   "metadata": {},
   "outputs": [
    {
     "name": "stdout",
     "output_type": "stream",
     "text": [
      "[[ 0  1  2  3  4]\n",
      " [ 5  6  7  8  9]\n",
      " [10 11 12 13 14]\n",
      " [15 16 17 18 19]]\n"
     ]
    }
   ],
   "source": [
    "x = np.reshape(x, (4,5))\n",
    "print(x)"
   ]
  },
  {
   "cell_type": "code",
   "execution_count": 26,
   "metadata": {},
   "outputs": [
    {
     "name": "stdout",
     "output_type": "stream",
     "text": [
      "[[ 0  1]\n",
      " [ 2  3]\n",
      " [ 4  5]\n",
      " [ 6  7]\n",
      " [ 8  9]\n",
      " [10 11]\n",
      " [12 13]\n",
      " [14 15]\n",
      " [16 17]\n",
      " [18 19]]\n"
     ]
    }
   ],
   "source": [
    "x = np.reshape(x, (10, 2))\n",
    "print(x)"
   ]
  },
  {
   "cell_type": "code",
   "execution_count": 27,
   "metadata": {},
   "outputs": [
    {
     "name": "stdout",
     "output_type": "stream",
     "text": [
      "[[ 0  1]\n",
      " [ 2  3]\n",
      " [ 4  5]\n",
      " [ 6  7]\n",
      " [ 8  9]\n",
      " [10 11]\n",
      " [12 13]\n",
      " [14 15]\n",
      " [16 17]\n",
      " [18 19]]\n"
     ]
    }
   ],
   "source": [
    "#Some functions can be applied as methods\n",
    "x = np.arange(20).reshape((10,2))\n",
    "print(x)"
   ]
  },
  {
   "cell_type": "code",
   "execution_count": 32,
   "metadata": {},
   "outputs": [
    {
     "name": "stdout",
     "output_type": "stream",
     "text": [
      "[[ 0.  5.]\n",
      " [10. 15.]\n",
      " [20. 25.]\n",
      " [30. 35.]\n",
      " [40. 45.]]\n"
     ]
    }
   ],
   "source": [
    "x = np.linspace(0, 50, 10, endpoint=False).reshape((5,2))\n",
    "print(x)"
   ]
  },
  {
   "cell_type": "code",
   "execution_count": 34,
   "metadata": {},
   "outputs": [
    {
     "name": "stdout",
     "output_type": "stream",
     "text": [
      "[[0.3444202  0.40864767 0.55922489]\n",
      " [0.76487321 0.29005227 0.18870531]\n",
      " [0.78939978 0.54744118 0.3985113 ]]\n"
     ]
    }
   ],
   "source": [
    "#THis prints a number between 0 (inclusive) and 1 (exclusive)\n",
    "#first random is the module second one is the function within the random module\n",
    "x = np.random.random((3,3))\n",
    "print(x)"
   ]
  },
  {
   "cell_type": "code",
   "execution_count": 36,
   "metadata": {},
   "outputs": [
    {
     "name": "stdout",
     "output_type": "stream",
     "text": [
      "[[12  5]\n",
      " [ 8  6]\n",
      " [11  7]]\n"
     ]
    }
   ],
   "source": [
    "x = np.random.randint(4, 15, (3,2))\n",
    "print(x)"
   ]
  },
  {
   "cell_type": "code",
   "execution_count": 37,
   "metadata": {},
   "outputs": [
    {
     "name": "stdout",
     "output_type": "stream",
     "text": [
      "[[-1.04412016e-01 -1.30404149e-01  1.10394807e-02 ...  1.72334077e-01\n",
      "   1.19148275e-01  1.50259743e-02]\n",
      " [-3.60057012e-02 -7.93238554e-03  1.32611237e-01 ... -1.24742459e-03\n",
      "   9.00169692e-02  1.34420155e-01]\n",
      " [-6.52279564e-02 -1.61994254e-01 -6.75296437e-02 ... -2.23191758e-01\n",
      "  -8.08190712e-02  7.64078355e-02]\n",
      " ...\n",
      " [-6.98748294e-02  6.60847456e-02 -3.16580213e-02 ...  2.49135277e-02\n",
      "   2.23685230e-02 -9.12538167e-02]\n",
      " [-2.19490346e-01  9.01909023e-02 -1.36646900e-01 ...  1.17073796e-01\n",
      "   8.18810178e-02 -1.36660099e-01]\n",
      " [ 1.26053240e-01 -2.03449150e-04  3.05963404e-02 ... -1.25425342e-01\n",
      "   6.71783523e-03 -1.52028597e-01]]\n"
     ]
    }
   ],
   "source": [
    "#create a normal distribution with mean = 0, standard deviation = 0.1 and dimensions = 1000x1000\n",
    "x = np.random.normal(0, 0.1, size=(1000, 1000))\n",
    "print(x)"
   ]
  },
  {
   "cell_type": "code",
   "execution_count": 38,
   "metadata": {},
   "outputs": [
    {
     "name": "stdout",
     "output_type": "stream",
     "text": [
      "mean:  7.263850601837861e-06\n",
      "std:  0.10010632230509804\n",
      "max:  0.48238192390748424\n",
      "min:  -0.45426089682254844\n",
      "# positive:  500279\n",
      "# negative:  499721\n"
     ]
    }
   ],
   "source": [
    "print('mean: ',x.mean())\n",
    "print('std: ',x.std())\n",
    "print('max: ',x.max())\n",
    "print('min: ',x.min())\n",
    "print('# positive: ',(x > 0).sum())\n",
    "print('# negative: ',(x < 0).sum())"
   ]
  },
  {
   "cell_type": "code",
   "execution_count": 42,
   "metadata": {},
   "outputs": [
    {
     "name": "stdout",
     "output_type": "stream",
     "text": [
      "[[ 2  4  6  8]\n",
      " [10 12 14 16]\n",
      " [18 20 22 24]\n",
      " [26 28 30 32]]\n",
      "With linspace\n",
      "[[ 2.  4.  6.  8.]\n",
      " [10. 12. 14. 16.]\n",
      " [18. 20. 22. 24.]\n",
      " [26. 28. 30. 32.]]\n"
     ]
    }
   ],
   "source": [
    "#Test 1: Print a 4 x 4 rank n array from 2 - 32exclusive consecutive even numbers\n",
    "x = np.arange(2, 33, 2).reshape((4,4))\n",
    "print(x)\n",
    "print(\"With linspace\")\n",
    "x = np.linspace(2, 32, 16).reshape(4,4)\n",
    "print(x)"
   ]
  },
  {
   "cell_type": "code",
   "execution_count": null,
   "metadata": {},
   "outputs": [],
   "source": []
  }
 ],
 "metadata": {
  "kernelspec": {
   "display_name": "Python [conda env:anaconda3]",
   "language": "python",
   "name": "conda-env-anaconda3-py"
  },
  "language_info": {
   "codemirror_mode": {
    "name": "ipython",
    "version": 3
   },
   "file_extension": ".py",
   "mimetype": "text/x-python",
   "name": "python",
   "nbconvert_exporter": "python",
   "pygments_lexer": "ipython3",
   "version": "3.6.6"
  }
 },
 "nbformat": 4,
 "nbformat_minor": 2
}
