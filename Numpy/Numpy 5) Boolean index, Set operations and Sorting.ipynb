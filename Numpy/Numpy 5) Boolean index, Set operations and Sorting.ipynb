{
 "cells": [
  {
   "cell_type": "markdown",
   "metadata": {},
   "source": [
    "Set Operations is useful for comparing two Numpy arrays. SO to find intersection, union and difference between arrays\n",
    "For rank 1 arrays:<br>\n",
    "`np.intersect1d(x,y))` **They all return numpy arrays**<br>\n",
    "`np.setdiff1d(x,y))`<br>\n",
    "`np.union1d(x,y))`<br>\n",
    "When sort is used as a function so np.sort(), it doesnt change the original array <br>\n",
    "But when it is used as a method the original array is changed. ndarry.sort()<br><br>\n",
    "**For sorting, axis=0 actually sorts by column and axis=1 sorts by row**"
   ]
  },
  {
   "cell_type": "code",
   "execution_count": 1,
   "metadata": {},
   "outputs": [],
   "source": [
    "import numpy as np"
   ]
  },
  {
   "cell_type": "code",
   "execution_count": 3,
   "metadata": {},
   "outputs": [
    {
     "name": "stdout",
     "output_type": "stream",
     "text": [
      "[[ 0  1  2  3  4]\n",
      " [ 5  6  7  8  9]\n",
      " [10 11 12 13 14]\n",
      " [15 16 17 18 19]\n",
      " [20 21 22 23 24]]\n"
     ]
    }
   ],
   "source": [
    "x = np.arange(25).reshape(5,5)\n",
    "print(x)"
   ]
  },
  {
   "cell_type": "code",
   "execution_count": 4,
   "metadata": {},
   "outputs": [
    {
     "name": "stdout",
     "output_type": "stream",
     "text": [
      "[11 12 13 14 15 16 17 18 19 20 21 22 23 24]\n"
     ]
    }
   ],
   "source": [
    "print(x[x > 10])"
   ]
  },
  {
   "cell_type": "code",
   "execution_count": 6,
   "metadata": {},
   "outputs": [
    {
     "name": "stdout",
     "output_type": "stream",
     "text": [
      "[0 1 2 3 4 5 6 7]\n"
     ]
    }
   ],
   "source": [
    "print(x[x <= 7])"
   ]
  },
  {
   "cell_type": "code",
   "execution_count": 15,
   "metadata": {},
   "outputs": [
    {
     "name": "stdout",
     "output_type": "stream",
     "text": [
      "[1 2 3 4 5 6 7]\n"
     ]
    }
   ],
   "source": [
    "x[(x > 10) & (x < 17)] = -1\n",
    "print(x)"
   ]
  },
  {
   "cell_type": "code",
   "execution_count": 25,
   "metadata": {},
   "outputs": [
    {
     "name": "stdout",
     "output_type": "stream",
     "text": [
      "[2 3 4]\n",
      "[1 5 6 7]\n",
      "[1 2 3 4 5 6 7 8 9]\n"
     ]
    }
   ],
   "source": [
    "x = np.array([1,2,3,4,5,6,7])\n",
    "y = np.array([4,3,2,9,9,8])\n",
    "\n",
    "print(np.intersect1d(x,y))\n",
    "print(np.setdiff1d(x,y))\n",
    "print(np.union1d(x,y))"
   ]
  },
  {
   "cell_type": "code",
   "execution_count": 30,
   "metadata": {},
   "outputs": [
    {
     "name": "stdout",
     "output_type": "stream",
     "text": [
      "[2 3 4 8 9]\n",
      "Original array doesnt change:  [4 3 2 9 9 8]\n"
     ]
    }
   ],
   "source": [
    "print(np.sort(np.unique(y)))\n",
    "#print(np.sort(y))\n",
    "print(\"Original array doesnt change: \", y)"
   ]
  },
  {
   "cell_type": "code",
   "execution_count": 33,
   "metadata": {},
   "outputs": [
    {
     "name": "stdout",
     "output_type": "stream",
     "text": [
      "[ 6 10 10  4  3  9  6  4  9  9]\n",
      "The original array is changed: [ 3  4  4  6  6  9  9  9 10 10]\n"
     ]
    }
   ],
   "source": [
    "x = np.random.randint(1, 11, size=(10))\n",
    "print(x)\n",
    "#x.sort()\n",
    "x.sort()\n",
    "print(\"The original array is changed:\", x)"
   ]
  },
  {
   "cell_type": "code",
   "execution_count": 39,
   "metadata": {},
   "outputs": [
    {
     "name": "stdout",
     "output_type": "stream",
     "text": [
      "[[ 3 10  4  3  2]\n",
      " [ 1 10  1  8  8]\n",
      " [ 1  5  3  1  4]\n",
      " [ 2  9  2  7  5]]\n"
     ]
    }
   ],
   "source": [
    "x = np.random.randint(1, 11, size=(4, 5))\n",
    "print(x)"
   ]
  },
  {
   "cell_type": "code",
   "execution_count": 42,
   "metadata": {},
   "outputs": [
    {
     "name": "stdout",
     "output_type": "stream",
     "text": [
      "[[ 1  5  1  1  2]\n",
      " [ 1  9  2  3  4]\n",
      " [ 2 10  3  7  5]\n",
      " [ 3 10  4  8  8]]\n"
     ]
    }
   ],
   "source": [
    "#sort by row\n",
    "print(np.sort(x, axis=0))"
   ]
  },
  {
   "cell_type": "code",
   "execution_count": 41,
   "metadata": {},
   "outputs": [
    {
     "name": "stdout",
     "output_type": "stream",
     "text": [
      "[[ 2  3  3  4 10]\n",
      " [ 1  1  8  8 10]\n",
      " [ 1  1  3  4  5]\n",
      " [ 2  2  5  7  9]]\n"
     ]
    }
   ],
   "source": [
    "#sort by column\n",
    "print(np.sort(x, axis=1))"
   ]
  },
  {
   "cell_type": "code",
   "execution_count": null,
   "metadata": {},
   "outputs": [],
   "source": []
  }
 ],
 "metadata": {
  "kernelspec": {
   "display_name": "Python [conda env:anaconda3]",
   "language": "python",
   "name": "conda-env-anaconda3-py"
  },
  "language_info": {
   "codemirror_mode": {
    "name": "ipython",
    "version": 3
   },
   "file_extension": ".py",
   "mimetype": "text/x-python",
   "name": "python",
   "nbconvert_exporter": "python",
   "pygments_lexer": "ipython3",
   "version": "3.6.6"
  }
 },
 "nbformat": 4,
 "nbformat_minor": 2
}
